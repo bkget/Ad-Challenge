{
 "cells": [
  {
   "cell_type": "markdown",
   "metadata": {},
   "source": [
    "## Key Words\n",
    "* **Briefs** - the initial form that is filled by a client to provide Adludio with the required information to design an ad unit (called sometimes creative or just ad) and serve it on the web by setting up appropriate campaigns. \n",
    "* **Creative** - an advertisement (ad) that a user sees and interacts with when browsing a website or using an ad-powered mobile app.   \n",
    "* **Inventory** - a digital space advertised by a publisher. These spaces are bought and sold in an ad exchange service, like the trade desk (TTD). \n",
    "* **Impression**: A single impression is registered when one ad is rendered on a user’s device. Different impressions are indexed by an auction_id -  a unique string.  \n",
    "* **Advertiser** - a client who is advertising for single or multiple products. Different advertiser companies are distinguished by advertiser_ids.  \n",
    "\n",
    "\n",
    "* **Campaign** - an ad placement session for a single client and a single product. A campaign_id is used to distinguish different campaigns. Within a single campaign, there could be multiple strategies that are served under what is called an adgroup.\n",
    "* **Adgroup** - an ad channel in a campaign with a unique serving strategy. Different adgroups are distinguished by an adgroup_id.\n",
    "* **GameKey** - A unique identifier that identifies a particular creative\n",
    "* **Campaign Manager** - professionals who manage campaigns and interact with the client.\n",
    "* **Engagement** - an event triggered when a user interacts for the first time with an ad\n",
    "* **Click Through**  - the last click a user makes before leaving the interaction with the ad\n",
    "* **Engagement Rate (ER)** - number of engagements divided by the number of impressions\n",
    "* **Click Through Rate (CTR)** - the number of clicks divided by the number of engagements\n",
    "* **KPI** - Key performance indicators. The two KPIs used commonly are ER and CTR. "
   ]
  },
  {
   "cell_type": "code",
   "execution_count": 1,
   "metadata": {},
   "outputs": [],
   "source": [
    "import pandas as pd\n",
    "pd.set_option('max_column', None)\n",
    "pd.options.display.float_format = \"{:.2f}\".format"
   ]
  },
  {
   "cell_type": "markdown",
   "metadata": {},
   "source": [
    "## campaigns_inventory.csv"
   ]
  },
  {
   "cell_type": "code",
   "execution_count": 2,
   "metadata": {},
   "outputs": [
    {
     "name": "stderr",
     "output_type": "stream",
     "text": [
      "/home/biruk/.local/lib/python3.10/site-packages/IPython/core/interactiveshell.py:3398: DtypeWarning: Columns (1,2,10) have mixed types.Specify dtype option on import or set low_memory=False.\n",
      "  exec(code_obj, self.user_global_ns, self.user_ns)\n"
     ]
    }
   ],
   "source": [
    "file_path = '../data/campaigns_inventory_updated.csv'\n",
    "df_inventory = pd.read_csv(file_path)"
   ]
  },
  {
   "cell_type": "code",
   "execution_count": 15,
   "metadata": {},
   "outputs": [
    {
     "name": "stdout",
     "output_type": "stream",
     "text": [
      "<class 'pandas.core.frame.DataFrame'>\n",
      "RangeIndex: 422387 entries, 0 to 422386\n",
      "Data columns (total 13 columns):\n",
      " #   Column       Non-Null Count   Dtype \n",
      "---  ------       --------------   ----- \n",
      " 0   type         422387 non-null  object\n",
      " 1   width        422382 non-null  object\n",
      " 2   height       422385 non-null  object\n",
      " 3   campaign_id  422387 non-null  object\n",
      " 4   creative_id  422387 non-null  object\n",
      " 5   auction_id   422387 non-null  object\n",
      " 6   browser_ts   422387 non-null  object\n",
      " 7   game_key     422387 non-null  object\n",
      " 8   geo_country  422382 non-null  object\n",
      " 9   site_name    422387 non-null  object\n",
      " 10  platform_os  422387 non-null  object\n",
      " 11  device_type  422381 non-null  object\n",
      " 12  browser      422370 non-null  object\n",
      "dtypes: object(13)\n",
      "memory usage: 41.9+ MB\n"
     ]
    }
   ],
   "source": [
    "df_inventory.info()"
   ]
  },
  {
   "cell_type": "code",
   "execution_count": 3,
   "metadata": {},
   "outputs": [
    {
     "data": {
      "text/html": [
       "<div>\n",
       "<style scoped>\n",
       "    .dataframe tbody tr th:only-of-type {\n",
       "        vertical-align: middle;\n",
       "    }\n",
       "\n",
       "    .dataframe tbody tr th {\n",
       "        vertical-align: top;\n",
       "    }\n",
       "\n",
       "    .dataframe thead th {\n",
       "        text-align: right;\n",
       "    }\n",
       "</style>\n",
       "<table border=\"1\" class=\"dataframe\">\n",
       "  <thead>\n",
       "    <tr style=\"text-align: right;\">\n",
       "      <th></th>\n",
       "      <th>type</th>\n",
       "      <th>width</th>\n",
       "      <th>height</th>\n",
       "      <th>campaign_id</th>\n",
       "      <th>creative_id</th>\n",
       "      <th>auction_id</th>\n",
       "      <th>browser_ts</th>\n",
       "      <th>game_key</th>\n",
       "      <th>geo_country</th>\n",
       "      <th>site_name</th>\n",
       "      <th>platform_os</th>\n",
       "      <th>device_type</th>\n",
       "      <th>browser</th>\n",
       "    </tr>\n",
       "  </thead>\n",
       "  <tbody>\n",
       "    <tr>\n",
       "      <th>0</th>\n",
       "      <td>impression</td>\n",
       "      <td>%</td>\n",
       "      <td>%</td>\n",
       "      <td>l5kk3r3</td>\n",
       "      <td>x83byc8a</td>\n",
       "      <td>fd74243f-6606-4830-a0ef-dd12f66ec6f5</td>\n",
       "      <td>2021-01-01T19:55:20.291Z</td>\n",
       "      <td>adunit-facebook-conversational-commerce-phase-...</td>\n",
       "      <td>Thailand</td>\n",
       "      <td>www.wuxiaworld.com</td>\n",
       "      <td>6</td>\n",
       "      <td>Mobile</td>\n",
       "      <td>Chrome</td>\n",
       "    </tr>\n",
       "    <tr>\n",
       "      <th>1</th>\n",
       "      <td>impression</td>\n",
       "      <td>%</td>\n",
       "      <td>%</td>\n",
       "      <td>l5kk3r3</td>\n",
       "      <td>x83byc8a</td>\n",
       "      <td>fd74243f-6606-4830-a0ef-dd12f66ec6f5</td>\n",
       "      <td>2021-01-01T19:55:20.298Z</td>\n",
       "      <td>adunit-facebook-conversational-commerce-phase-...</td>\n",
       "      <td>Thailand</td>\n",
       "      <td>www.wuxiaworld.com</td>\n",
       "      <td>6</td>\n",
       "      <td>Mobile</td>\n",
       "      <td>Mobile Safari UI/WKWebView</td>\n",
       "    </tr>\n",
       "    <tr>\n",
       "      <th>2</th>\n",
       "      <td>impression</td>\n",
       "      <td>%</td>\n",
       "      <td>%</td>\n",
       "      <td>l5kk3r3</td>\n",
       "      <td>tf2htrrm</td>\n",
       "      <td>b3af878b-fd1a-4c6f-91a2-4e3670d2fda5</td>\n",
       "      <td>2021-01-05T00:21:39.693Z</td>\n",
       "      <td>adunit-facebook-conversational-commerce-phase-...</td>\n",
       "      <td>Thailand</td>\n",
       "      <td>www.prachachat.net</td>\n",
       "      <td>6</td>\n",
       "      <td>Mobile</td>\n",
       "      <td>Chrome Mobile</td>\n",
       "    </tr>\n",
       "    <tr>\n",
       "      <th>3</th>\n",
       "      <td>impression</td>\n",
       "      <td>%</td>\n",
       "      <td>%</td>\n",
       "      <td>l5kk3r3</td>\n",
       "      <td>x83byc8a</td>\n",
       "      <td>b7c22590-e784-43cf-874d-a661ad99601f</td>\n",
       "      <td>2021-01-06T09:30:44.188Z</td>\n",
       "      <td>adunit-facebook-conversational-commerce-phase-...</td>\n",
       "      <td>Thailand</td>\n",
       "      <td>www.prachachat.net</td>\n",
       "      <td>6</td>\n",
       "      <td>Mobile</td>\n",
       "      <td>Mobile Safari</td>\n",
       "    </tr>\n",
       "    <tr>\n",
       "      <th>4</th>\n",
       "      <td>impression</td>\n",
       "      <td>%</td>\n",
       "      <td>%</td>\n",
       "      <td>l5kk3r3</td>\n",
       "      <td>x83byc8a</td>\n",
       "      <td>b7c22590-e784-43cf-874d-a661ad99601f</td>\n",
       "      <td>2021-01-06T09:30:45.047Z</td>\n",
       "      <td>adunit-facebook-conversational-commerce-phase-...</td>\n",
       "      <td>Thailand</td>\n",
       "      <td>www.prachachat.net</td>\n",
       "      <td>6</td>\n",
       "      <td>Mobile</td>\n",
       "      <td>Chrome</td>\n",
       "    </tr>\n",
       "  </tbody>\n",
       "</table>\n",
       "</div>"
      ],
      "text/plain": [
       "         type width height campaign_id creative_id  \\\n",
       "0  impression     %      %     l5kk3r3    x83byc8a   \n",
       "1  impression     %      %     l5kk3r3    x83byc8a   \n",
       "2  impression     %      %     l5kk3r3    tf2htrrm   \n",
       "3  impression     %      %     l5kk3r3    x83byc8a   \n",
       "4  impression     %      %     l5kk3r3    x83byc8a   \n",
       "\n",
       "                             auction_id                browser_ts  \\\n",
       "0  fd74243f-6606-4830-a0ef-dd12f66ec6f5  2021-01-01T19:55:20.291Z   \n",
       "1  fd74243f-6606-4830-a0ef-dd12f66ec6f5  2021-01-01T19:55:20.298Z   \n",
       "2  b3af878b-fd1a-4c6f-91a2-4e3670d2fda5  2021-01-05T00:21:39.693Z   \n",
       "3  b7c22590-e784-43cf-874d-a661ad99601f  2021-01-06T09:30:44.188Z   \n",
       "4  b7c22590-e784-43cf-874d-a661ad99601f  2021-01-06T09:30:45.047Z   \n",
       "\n",
       "                                            game_key geo_country  \\\n",
       "0  adunit-facebook-conversational-commerce-phase-...    Thailand   \n",
       "1  adunit-facebook-conversational-commerce-phase-...    Thailand   \n",
       "2  adunit-facebook-conversational-commerce-phase-...    Thailand   \n",
       "3  adunit-facebook-conversational-commerce-phase-...    Thailand   \n",
       "4  adunit-facebook-conversational-commerce-phase-...    Thailand   \n",
       "\n",
       "            site_name platform_os device_type                     browser  \n",
       "0  www.wuxiaworld.com           6      Mobile                      Chrome  \n",
       "1  www.wuxiaworld.com           6      Mobile  Mobile Safari UI/WKWebView  \n",
       "2  www.prachachat.net           6      Mobile               Chrome Mobile  \n",
       "3  www.prachachat.net           6      Mobile               Mobile Safari  \n",
       "4  www.prachachat.net           6      Mobile                      Chrome  "
      ]
     },
     "execution_count": 3,
     "metadata": {},
     "output_type": "execute_result"
    }
   ],
   "source": [
    "# df = df.set_index(df.columns[0])\n",
    "df_inventory.head()"
   ]
  },
  {
   "cell_type": "code",
   "execution_count": 4,
   "metadata": {},
   "outputs": [
    {
     "data": {
      "text/plain": [
       "20    adunit-naturemade-gummies-physics-mob/eed7a2ed...\n",
       "21    36ab7d298620eacc80ead7b3ac233c9f/e252a06166e27...\n",
       "22    adunit-naturemade-gummies-physics-mob/eed7a2ed...\n",
       "23    adunit-naturemade-gummies-physics-mpu/9d1af9ef...\n",
       "24    adunit-naturemade-gummies-physics-mpu/9d1af9ef...\n",
       "25    adunit-naturemade-gummies-physics-mpu/9d1af9ef...\n",
       "26    adunit-naturemade-gummies-physics-mpu/9d1af9ef...\n",
       "27    36ab7d298620eacc80ead7b3ac233c9f/e252a06166e27...\n",
       "28    36ab7d298620eacc80ead7b3ac233c9f/e252a06166e27...\n",
       "29    36ab7d298620eacc80ead7b3ac233c9f/e252a06166e27...\n",
       "Name: game_key, dtype: object"
      ]
     },
     "execution_count": 4,
     "metadata": {},
     "output_type": "execute_result"
    }
   ],
   "source": [
    "df_inventory['game_key'][20:30]"
   ]
  },
  {
   "cell_type": "code",
   "execution_count": 87,
   "metadata": {},
   "outputs": [
    {
     "data": {
      "text/html": [
       "<div>\n",
       "<style scoped>\n",
       "    .dataframe tbody tr th:only-of-type {\n",
       "        vertical-align: middle;\n",
       "    }\n",
       "\n",
       "    .dataframe tbody tr th {\n",
       "        vertical-align: top;\n",
       "    }\n",
       "\n",
       "    .dataframe thead th {\n",
       "        text-align: right;\n",
       "    }\n",
       "</style>\n",
       "<table border=\"1\" class=\"dataframe\">\n",
       "  <thead>\n",
       "    <tr style=\"text-align: right;\">\n",
       "      <th></th>\n",
       "      <th>type</th>\n",
       "    </tr>\n",
       "  </thead>\n",
       "  <tbody>\n",
       "    <tr>\n",
       "      <th>impression</th>\n",
       "      <td>360307</td>\n",
       "    </tr>\n",
       "    <tr>\n",
       "      <th>first_dropped</th>\n",
       "      <td>44078</td>\n",
       "    </tr>\n",
       "    <tr>\n",
       "      <th>click-through-event</th>\n",
       "      <td>18002</td>\n",
       "    </tr>\n",
       "  </tbody>\n",
       "</table>\n",
       "</div>"
      ],
      "text/plain": [
       "                       type\n",
       "impression           360307\n",
       "first_dropped         44078\n",
       "click-through-event   18002"
      ]
     },
     "execution_count": 87,
     "metadata": {},
     "output_type": "execute_result"
    }
   ],
   "source": [
    "type_count = df_inventory['type'].value_counts()\n",
    "pd.DataFrame(type_count)"
   ]
  },
  {
   "cell_type": "markdown",
   "metadata": {},
   "source": [
    "* **first-droped** - Shows user engagement with ad (Primary KPI). If you see the user interaction event value first-droped in the ‘type’ column of campaigns inventory, it is to mean the user is engaged for that auction.\n",
    "\n",
    "* **Impression** - Shows the number of ads served to users\n",
    "\n",
    "* **Click_through** - Shows click event on ad. (Secondary KPI). If you see the user interaction event value first-droped in the ‘type’ column of campaigns inventory, it is to mean the user clicked for that auction.\n"
   ]
  },
  {
   "cell_type": "code",
   "execution_count": 88,
   "metadata": {},
   "outputs": [
    {
     "data": {
      "text/plain": [
       "'32e383171fd8ad263dd92ddd50969341/6f6afa19074b77878e2e'"
      ]
     },
     "execution_count": 88,
     "metadata": {},
     "output_type": "execute_result"
    }
   ],
   "source": [
    "df_inventory[\"game_key\"][1001]"
   ]
  },
  {
   "cell_type": "markdown",
   "metadata": {},
   "source": [
    "** **Creative Assets(Creative_assets_) Zipped File**\n",
    "\n",
    "The data contains images for particular game keys. Use computer vision to extract features that enrich the already existing features in design data. Hint: The naming convention of the images(to identify the game key), change ‘-’ to ‘/’.\n",
    "\n",
    "stored in creative_assets_ folder as `32e383171fd8ad263dd92ddd50969341-6f6afa19074b77878e2e.png`"
   ]
  },
  {
   "cell_type": "code",
   "execution_count": 89,
   "metadata": {},
   "outputs": [
    {
     "name": "stdout",
     "output_type": "stream",
     "text": [
      "<class 'pandas.core.frame.DataFrame'>\n",
      "Int64Index: 89 entries, 697 to 1100\n",
      "Data columns (total 13 columns):\n",
      " #   Column       Non-Null Count  Dtype \n",
      "---  ------       --------------  ----- \n",
      " 0   type         89 non-null     object\n",
      " 1   width        89 non-null     object\n",
      " 2   height       89 non-null     object\n",
      " 3   campaign_id  89 non-null     object\n",
      " 4   creative_id  89 non-null     object\n",
      " 5   auction_id   89 non-null     object\n",
      " 6   browser_ts   89 non-null     object\n",
      " 7   game_key     89 non-null     object\n",
      " 8   geo_country  89 non-null     object\n",
      " 9   site_name    89 non-null     object\n",
      " 10  platform_os  89 non-null     object\n",
      " 11  device_type  89 non-null     object\n",
      " 12  browser      89 non-null     object\n",
      "dtypes: object(13)\n",
      "memory usage: 9.7+ KB\n"
     ]
    }
   ],
   "source": [
    "df_inventory[df_inventory[\"game_key\"] == '32e383171fd8ad263dd92ddd50969341/6f6afa19074b77878e2e'].info()"
   ]
  },
  {
   "cell_type": "markdown",
   "metadata": {},
   "source": [
    "## Briefing.csv"
   ]
  },
  {
   "cell_type": "code",
   "execution_count": 2,
   "metadata": {},
   "outputs": [],
   "source": [
    "briefing_file_path = '../data/briefing.csv'\n",
    "df_briefing = pd.read_csv(briefing_file_path)"
   ]
  },
  {
   "cell_type": "code",
   "execution_count": 91,
   "metadata": {},
   "outputs": [
    {
     "name": "stdout",
     "output_type": "stream",
     "text": [
      "<class 'pandas.core.frame.DataFrame'>\n",
      "RangeIndex: 101 entries, 0 to 100\n",
      "Data columns (total 21 columns):\n",
      " #   Column                                             Non-Null Count  Dtype  \n",
      "---  ------                                             --------------  -----  \n",
      " 0   campaign_id                                        101 non-null    object \n",
      " 1   campaign_name                                      101 non-null    object \n",
      " 2   Submission Date                                    101 non-null    object \n",
      " 3   Description                                        101 non-null    object \n",
      " 4   Campaign Objectives                                101 non-null    object \n",
      " 5   KPIs                                               101 non-null    object \n",
      " 6   Placement(s)                                       101 non-null    object \n",
      " 7   StartDate                                          101 non-null    object \n",
      " 8   EndDate                                            101 non-null    object \n",
      " 9   Serving Location(s)                                101 non-null    object \n",
      " 10  Black/white/audience list included?                101 non-null    object \n",
      " 11  Delivery Requirements (Black/Audience/White List)  9 non-null      object \n",
      " 12  Cost Centre                                        101 non-null    object \n",
      " 13  Currency                                           101 non-null    object \n",
      " 14  Buy Rate (CPE)                                     78 non-null     float64\n",
      " 15  Volume Agreed                                      78 non-null     float64\n",
      " 16  Gross Cost/Budget                                  82 non-null     float64\n",
      " 17  Agency Fee                                         98 non-null     object \n",
      " 18  Percentage                                         89 non-null     float64\n",
      " 19  Flat Fee                                           0 non-null      float64\n",
      " 20  Net Cost                                           98 non-null     float64\n",
      "dtypes: float64(6), object(15)\n",
      "memory usage: 16.7+ KB\n"
     ]
    }
   ],
   "source": [
    "df_briefing.info()"
   ]
  },
  {
   "cell_type": "code",
   "execution_count": 103,
   "metadata": {},
   "outputs": [
    {
     "data": {
      "text/html": [
       "<div>\n",
       "<style scoped>\n",
       "    .dataframe tbody tr th:only-of-type {\n",
       "        vertical-align: middle;\n",
       "    }\n",
       "\n",
       "    .dataframe tbody tr th {\n",
       "        vertical-align: top;\n",
       "    }\n",
       "\n",
       "    .dataframe thead th {\n",
       "        text-align: right;\n",
       "    }\n",
       "</style>\n",
       "<table border=\"1\" class=\"dataframe\">\n",
       "  <thead>\n",
       "    <tr style=\"text-align: right;\">\n",
       "      <th></th>\n",
       "      <th>campaign_id</th>\n",
       "      <th>campaign_name</th>\n",
       "      <th>Submission Date</th>\n",
       "      <th>Description</th>\n",
       "      <th>Campaign Objectives</th>\n",
       "      <th>KPIs</th>\n",
       "      <th>Placement(s)</th>\n",
       "      <th>StartDate</th>\n",
       "      <th>EndDate</th>\n",
       "      <th>Serving Location(s)</th>\n",
       "      <th>Black/white/audience list included?</th>\n",
       "      <th>Delivery Requirements (Black/Audience/White List)</th>\n",
       "      <th>Cost Centre</th>\n",
       "      <th>Currency</th>\n",
       "      <th>Buy Rate (CPE)</th>\n",
       "      <th>Volume Agreed</th>\n",
       "      <th>Gross Cost/Budget</th>\n",
       "      <th>Agency Fee</th>\n",
       "      <th>Percentage</th>\n",
       "      <th>Flat Fee</th>\n",
       "      <th>Net Cost</th>\n",
       "    </tr>\n",
       "  </thead>\n",
       "  <tbody>\n",
       "    <tr>\n",
       "      <th>96</th>\n",
       "      <td>bwtaolq</td>\n",
       "      <td>Jaguar_Nameplate Refresh_2021_SG</td>\n",
       "      <td>04/08/2021 10:22</td>\n",
       "      <td>Storyboard Stage : \\r\\n2 Storyboards sent for ...</td>\n",
       "      <td>Brand Awareness\\nProduct Awareness\\nMessage Re...</td>\n",
       "      <td>Engagement Rate</td>\n",
       "      <td>320x480 (Fullscreen mobile / interstitial)\\n30...</td>\n",
       "      <td>23/08/2021</td>\n",
       "      <td>19/09/2021</td>\n",
       "      <td>Singapore &amp; HK</td>\n",
       "      <td>No black/white/audience list for this campaign</td>\n",
       "      <td>NaN</td>\n",
       "      <td>SGP</td>\n",
       "      <td>SGD</td>\n",
       "      <td>0.37</td>\n",
       "      <td>164547.00</td>\n",
       "      <td>60882.39</td>\n",
       "      <td>Percentage</td>\n",
       "      <td>15.00</td>\n",
       "      <td>NaN</td>\n",
       "      <td>51750.03</td>\n",
       "    </tr>\n",
       "    <tr>\n",
       "      <th>97</th>\n",
       "      <td>zqx8gzt</td>\n",
       "      <td>Timberland | Greenstrides | IT | FS &amp; MPU | mweb</td>\n",
       "      <td>05/10/2021 08:35</td>\n",
       "      <td>Hi team, \\r\\n\\r\\nHad a booking for Timberland,...</td>\n",
       "      <td>Brand Awareness\\nProduct Awareness</td>\n",
       "      <td>Engagement Rate</td>\n",
       "      <td>320x480 (Fullscreen mobile / interstitial)</td>\n",
       "      <td>14/10/2021</td>\n",
       "      <td>15/11/2021</td>\n",
       "      <td>UK, FR, DE, IT</td>\n",
       "      <td>Black/white/audience list will be provided later</td>\n",
       "      <td>NaN</td>\n",
       "      <td>INTL</td>\n",
       "      <td>GBP</td>\n",
       "      <td>0.30</td>\n",
       "      <td>325166.67</td>\n",
       "      <td>97550.00</td>\n",
       "      <td>Percentage</td>\n",
       "      <td>15.00</td>\n",
       "      <td>NaN</td>\n",
       "      <td>82917.50</td>\n",
       "    </tr>\n",
       "    <tr>\n",
       "      <th>98</th>\n",
       "      <td>6hd5fvd</td>\n",
       "      <td>TIGER_CRYSTAL INNER FIRE_10_2021_SG</td>\n",
       "      <td>14/09/2021 01:41</td>\n",
       "      <td>Storyboard Stage : \\r\\nStoryboard sent.\\r\\n\\r\\...</td>\n",
       "      <td>Brand Awareness\\nProduct Awareness\\nMessage Re...</td>\n",
       "      <td>Engagement Rate</td>\n",
       "      <td>320x480 (Fullscreen mobile / interstitial)\\n30...</td>\n",
       "      <td>04/10/2021</td>\n",
       "      <td>14/11/2021</td>\n",
       "      <td>Singapore</td>\n",
       "      <td>No black/white/audience list for this campaign</td>\n",
       "      <td>NaN</td>\n",
       "      <td>SGP</td>\n",
       "      <td>SGD</td>\n",
       "      <td>0.49</td>\n",
       "      <td>51861.00</td>\n",
       "      <td>25411.89</td>\n",
       "      <td>Percentage</td>\n",
       "      <td>15.00</td>\n",
       "      <td>NaN</td>\n",
       "      <td>21600.11</td>\n",
       "    </tr>\n",
       "    <tr>\n",
       "      <th>99</th>\n",
       "      <td>5udv61c</td>\n",
       "      <td>Capital Group_Co-brand_2021_10_CPC_HK</td>\n",
       "      <td>07/09/2021 23:33</td>\n",
       "      <td>**DESIGN SECTION**\\r\\n\\r\\nStoryboard Due Date ...</td>\n",
       "      <td>Brand Awareness\\nProduct Awareness</td>\n",
       "      <td>CTR</td>\n",
       "      <td>320x480 (Fullscreen mobile / interstitial)\\n30...</td>\n",
       "      <td>18/10/2021</td>\n",
       "      <td>21/11/2021</td>\n",
       "      <td>Hong Kong</td>\n",
       "      <td>Black/white/audience list included\\nBlack/whit...</td>\n",
       "      <td>https://www.jotform.com/uploads/jamesadludio/8...</td>\n",
       "      <td>HK</td>\n",
       "      <td>HKD</td>\n",
       "      <td>9.00</td>\n",
       "      <td>11764.70</td>\n",
       "      <td>105882.30</td>\n",
       "      <td>Percentage</td>\n",
       "      <td>15.00</td>\n",
       "      <td>NaN</td>\n",
       "      <td>89999.96</td>\n",
       "    </tr>\n",
       "    <tr>\n",
       "      <th>100</th>\n",
       "      <td>z8yohnz</td>\n",
       "      <td>Showtime Dexter | Sensory Video | CPE | Sho Lo...</td>\n",
       "      <td>06/10/2021 09:20</td>\n",
       "      <td>CPE, CPC, CPM</td>\n",
       "      <td>Brand Awareness\\nAudience Engagement\\nConversi...</td>\n",
       "      <td>VTR\\nCTR\\nConversion Rate\\nEngagement Rate</td>\n",
       "      <td>320x480 (Fullscreen mobile / interstitial)\\n30...</td>\n",
       "      <td>25/10/2021</td>\n",
       "      <td>31/12/2021</td>\n",
       "      <td>Mobile/Desktop</td>\n",
       "      <td>No black/white/audience list for this campaign</td>\n",
       "      <td>NaN</td>\n",
       "      <td>USA</td>\n",
       "      <td>USD</td>\n",
       "      <td>0.35</td>\n",
       "      <td>71429.00</td>\n",
       "      <td>25000.15</td>\n",
       "      <td>Flat Fee</td>\n",
       "      <td>NaN</td>\n",
       "      <td>NaN</td>\n",
       "      <td>25000.15</td>\n",
       "    </tr>\n",
       "  </tbody>\n",
       "</table>\n",
       "</div>"
      ],
      "text/plain": [
       "    campaign_id                                      campaign_name  \\\n",
       "96      bwtaolq                   Jaguar_Nameplate Refresh_2021_SG   \n",
       "97      zqx8gzt   Timberland | Greenstrides | IT | FS & MPU | mweb   \n",
       "98      6hd5fvd                TIGER_CRYSTAL INNER FIRE_10_2021_SG   \n",
       "99      5udv61c              Capital Group_Co-brand_2021_10_CPC_HK   \n",
       "100     z8yohnz  Showtime Dexter | Sensory Video | CPE | Sho Lo...   \n",
       "\n",
       "      Submission Date                                        Description  \\\n",
       "96   04/08/2021 10:22  Storyboard Stage : \\r\\n2 Storyboards sent for ...   \n",
       "97   05/10/2021 08:35  Hi team, \\r\\n\\r\\nHad a booking for Timberland,...   \n",
       "98   14/09/2021 01:41  Storyboard Stage : \\r\\nStoryboard sent.\\r\\n\\r\\...   \n",
       "99   07/09/2021 23:33  **DESIGN SECTION**\\r\\n\\r\\nStoryboard Due Date ...   \n",
       "100  06/10/2021 09:20                                      CPE, CPC, CPM   \n",
       "\n",
       "                                   Campaign Objectives  \\\n",
       "96   Brand Awareness\\nProduct Awareness\\nMessage Re...   \n",
       "97                  Brand Awareness\\nProduct Awareness   \n",
       "98   Brand Awareness\\nProduct Awareness\\nMessage Re...   \n",
       "99                  Brand Awareness\\nProduct Awareness   \n",
       "100  Brand Awareness\\nAudience Engagement\\nConversi...   \n",
       "\n",
       "                                           KPIs  \\\n",
       "96                              Engagement Rate   \n",
       "97                              Engagement Rate   \n",
       "98                              Engagement Rate   \n",
       "99                                          CTR   \n",
       "100  VTR\\nCTR\\nConversion Rate\\nEngagement Rate   \n",
       "\n",
       "                                          Placement(s)   StartDate  \\\n",
       "96   320x480 (Fullscreen mobile / interstitial)\\n30...  23/08/2021   \n",
       "97          320x480 (Fullscreen mobile / interstitial)  14/10/2021   \n",
       "98   320x480 (Fullscreen mobile / interstitial)\\n30...  04/10/2021   \n",
       "99   320x480 (Fullscreen mobile / interstitial)\\n30...  18/10/2021   \n",
       "100  320x480 (Fullscreen mobile / interstitial)\\n30...  25/10/2021   \n",
       "\n",
       "        EndDate Serving Location(s)  \\\n",
       "96   19/09/2021      Singapore & HK   \n",
       "97   15/11/2021      UK, FR, DE, IT   \n",
       "98   14/11/2021           Singapore   \n",
       "99   21/11/2021           Hong Kong   \n",
       "100  31/12/2021      Mobile/Desktop   \n",
       "\n",
       "                   Black/white/audience list included?  \\\n",
       "96      No black/white/audience list for this campaign   \n",
       "97    Black/white/audience list will be provided later   \n",
       "98      No black/white/audience list for this campaign   \n",
       "99   Black/white/audience list included\\nBlack/whit...   \n",
       "100     No black/white/audience list for this campaign   \n",
       "\n",
       "     Delivery Requirements (Black/Audience/White List) Cost Centre Currency  \\\n",
       "96                                                 NaN         SGP      SGD   \n",
       "97                                                 NaN        INTL      GBP   \n",
       "98                                                 NaN         SGP      SGD   \n",
       "99   https://www.jotform.com/uploads/jamesadludio/8...          HK      HKD   \n",
       "100                                                NaN         USA      USD   \n",
       "\n",
       "     Buy Rate (CPE)  Volume Agreed  Gross Cost/Budget  Agency Fee  Percentage  \\\n",
       "96             0.37      164547.00           60882.39  Percentage       15.00   \n",
       "97             0.30      325166.67           97550.00  Percentage       15.00   \n",
       "98             0.49       51861.00           25411.89  Percentage       15.00   \n",
       "99             9.00       11764.70          105882.30  Percentage       15.00   \n",
       "100            0.35       71429.00           25000.15    Flat Fee         NaN   \n",
       "\n",
       "     Flat Fee  Net Cost  \n",
       "96        NaN  51750.03  \n",
       "97        NaN  82917.50  \n",
       "98        NaN  21600.11  \n",
       "99        NaN  89999.96  \n",
       "100       NaN  25000.15  "
      ]
     },
     "execution_count": 103,
     "metadata": {},
     "output_type": "execute_result"
    }
   ],
   "source": [
    "df_briefing.head()"
   ]
  },
  {
   "cell_type": "code",
   "execution_count": 104,
   "metadata": {},
   "outputs": [],
   "source": [
    "# Drop Flat Fee since it is empty\n",
    "\n",
    "nan_value = float(\"NaN\")\n",
    "df_briefing.replace(\"\", nan_value, inplace=True)\n",
    "  \n",
    "df_briefing.dropna(how='all', axis=1, inplace=True)"
   ]
  },
  {
   "cell_type": "code",
   "execution_count": 107,
   "metadata": {},
   "outputs": [
    {
     "name": "stdout",
     "output_type": "stream",
     "text": [
      "<class 'pandas.core.frame.DataFrame'>\n",
      "RangeIndex: 101 entries, 0 to 100\n",
      "Data columns (total 20 columns):\n",
      " #   Column                                             Non-Null Count  Dtype  \n",
      "---  ------                                             --------------  -----  \n",
      " 0   campaign_id                                        101 non-null    object \n",
      " 1   campaign_name                                      101 non-null    object \n",
      " 2   Submission Date                                    101 non-null    object \n",
      " 3   Description                                        101 non-null    object \n",
      " 4   Campaign Objectives                                101 non-null    object \n",
      " 5   KPIs                                               101 non-null    object \n",
      " 6   Placement(s)                                       101 non-null    object \n",
      " 7   StartDate                                          101 non-null    object \n",
      " 8   EndDate                                            101 non-null    object \n",
      " 9   Serving Location(s)                                101 non-null    object \n",
      " 10  Black/white/audience list included?                101 non-null    object \n",
      " 11  Delivery Requirements (Black/Audience/White List)  9 non-null      object \n",
      " 12  Cost Centre                                        101 non-null    object \n",
      " 13  Currency                                           101 non-null    object \n",
      " 14  Buy Rate (CPE)                                     78 non-null     float64\n",
      " 15  Volume Agreed                                      78 non-null     float64\n",
      " 16  Gross Cost/Budget                                  82 non-null     float64\n",
      " 17  Agency Fee                                         98 non-null     object \n",
      " 18  Percentage                                         89 non-null     float64\n",
      " 19  Net Cost                                           98 non-null     float64\n",
      "dtypes: float64(5), object(15)\n",
      "memory usage: 15.9+ KB\n"
     ]
    }
   ],
   "source": [
    "df_briefing.info()"
   ]
  },
  {
   "cell_type": "code",
   "execution_count": null,
   "metadata": {},
   "outputs": [
    {
     "data": {
      "text/plain": [
       "(100, 63)"
      ]
     },
     "metadata": {},
     "output_type": "display_data"
    }
   ],
   "source": [
    "# Common attributes betwen briefing and campaigns_inventory_updated => `campaign_id`\n",
    "\n",
    "df_briefing['campaign_id'].nunique(), df_inventory['campaign_id'].nunique()"
   ]
  },
  {
   "cell_type": "code",
   "execution_count": null,
   "metadata": {},
   "outputs": [
    {
     "data": {
      "text/plain": [
       "lvkar9i    10000\n",
       "aok49ix    10000\n",
       "mdanl1k    10000\n",
       "93abu9r    10000\n",
       "jdprjca    10000\n",
       "           ...  \n",
       "t3ih5zj       19\n",
       "lnq49qr       18\n",
       "l5kk3r3       14\n",
       "zwgnbfr        2\n",
       "9xhmp81        2\n",
       "Name: campaign_id, Length: 63, dtype: int64"
      ]
     },
     "metadata": {},
     "output_type": "display_data"
    }
   ],
   "source": [
    "df_inventory['campaign_id'].value_counts()"
   ]
  },
  {
   "cell_type": "code",
   "execution_count": null,
   "metadata": {},
   "outputs": [
    {
     "data": {
      "text/plain": [
       "cosp3zs    2\n",
       "t8oo0oe    1\n",
       "wov3naw    1\n",
       "m0c5yv6    1\n",
       "tnh1z4q    1\n",
       "          ..\n",
       "t3ih5zj    1\n",
       "tn05ycs    1\n",
       "l5kk3r3    1\n",
       "mc36e3t    1\n",
       "z8yohnz    1\n",
       "Name: campaign_id, Length: 100, dtype: int64"
      ]
     },
     "metadata": {},
     "output_type": "display_data"
    }
   ],
   "source": [
    "df_briefing['campaign_id'].value_counts()"
   ]
  },
  {
   "cell_type": "markdown",
   "metadata": {},
   "source": [
    "## global_design_data.json"
   ]
  },
  {
   "cell_type": "code",
   "execution_count": 1,
   "metadata": {},
   "outputs": [],
   "source": [
    "import json\n",
    "import pandas as pd\n",
    "\n",
    "def read_json(json_file: str) -> list:\n",
    "    with open(json_file, 'r') as json_file:\n",
    "        json_data = json.load(json_file)\n",
    "    dataa = json_data.items()\n",
    "    listt = list(dataa)\n",
    "    return len(listt), listt\n",
    "\n",
    "# \n",
    "class CmpDfExtractor:\n",
    "\n",
    "    def __init__(self, cmp_list):\n",
    "        self.cmp_list = cmp_list\n",
    "        print('Data Extraction in progress...')\n",
    "    \n",
    "    def gamekey_extractor(self, json_file: json):\n",
    "        # game_key = []\n",
    "        # for x in self.cmp_list:\n",
    "        #     game_key.append(x[0])\n",
    "        # return game_key \n",
    "        df = pd.read_json(json_file)\n",
    "        game_key = []\n",
    "        for col, row in zip(df.columns, df.index):\n",
    "            game_key.append(col+\"/\"+row)\n",
    "        return game_key \n",
    "\n",
    "    def labels_engagement_extractor(self):\n",
    "        labels_engagement = [] \n",
    "        for x in self.cmp_list:\n",
    "            for k, v in x[1].items():\n",
    "                labels_engagement.append(\",\".join(v['labels']['engagement']))\n",
    "        return labels_engagement\n",
    "\n",
    "    def labels_click_through_extractor(self):\n",
    "        labels_click_through = [] \n",
    "        for x in self.cmp_list:\n",
    "            for k, v in x[1].items():\n",
    "                labels_click_through.append(\",\".join(v['labels']['click_through']))\n",
    "        return labels_click_through\n",
    "\n",
    "    def texts_engagement_extractor(self):\n",
    "        texts_engagement = [] \n",
    "        for x in self.cmp_list:\n",
    "            for k, v in x[1].items():\n",
    "                texts_engagement.append(\",\".join(v['text']['engagement']))\n",
    "        return texts_engagement\n",
    "\n",
    "    def texts_click_through_extractor(self):\n",
    "        texts_click_through = [] \n",
    "        for x in self.cmp_list:\n",
    "            for k, v in x[1].items():\n",
    "                texts_click_through.append(\",\".join(v['text']['click_through']))\n",
    "        return texts_click_through\n",
    "\n",
    "    def colors_engagement_extractor(self):\n",
    "        colors_engagement = [] \n",
    "        for x in self.cmp_list:\n",
    "            for k, v in x[1].items():\n",
    "                colors_engagement.append(v['colors']['engagement']) \n",
    "        return colors_engagement\n",
    "\n",
    "    def colors_click_through_extractor(self):\n",
    "        colors_click_through = [] \n",
    "        for x in self.cmp_list:\n",
    "            for k, v in x[1].items():\n",
    "                colors_click_through.append(v['colors']['click_through']) \n",
    "        return colors_click_through\n",
    "\n",
    "    def video_data_extractor(self):\n",
    "        video_data = [] \n",
    "        for x in self.cmp_list:\n",
    "            for k, v in x[1].items():\n",
    "                video_data.append(v['videos_data']['has_video']) \n",
    "        return video_data\n",
    "\n",
    "    def direction_extractor(self):\n",
    "        direction = [] \n",
    "        for x in self.cmp_list:\n",
    "            for k, v in x[1].items():\n",
    "                direction.append(v['direction']['direction']) \n",
    "        return direction"
   ]
  },
  {
   "cell_type": "code",
   "execution_count": 2,
   "metadata": {},
   "outputs": [
    {
     "name": "stdout",
     "output_type": "stream",
     "text": [
      "Data Extraction in progress...\n"
     ]
    }
   ],
   "source": [
    "if __name__ == \"__main__\":\n",
    "    path = \"../data/global_design_data.json\"\n",
    "    _, data_list = read_json(path)\n",
    "    \n",
    "    ad = CmpDfExtractor(data_list)\n",
    "    gamekey_df = ad.gamekey_extractor(path)\n",
    "    label_engagement = ad.labels_engagement_extractor()\n",
    "    labels_click_through = ad.labels_click_through_extractor()\n",
    "    text_engagement = ad.texts_engagement_extractor()\n",
    "    text_click_through = ad.texts_click_through_extractor()\n",
    "    color_engagement = ad.colors_engagement_extractor()\n",
    "    color_click_through = ad.colors_click_through_extractor()\n",
    "    video_data = ad.video_data_extractor()\n",
    "    direction = ad.direction_extractor()\n",
    "    \n",
    "    # print(gamekey_df)\n",
    "    # print(video_data)\n",
    "    # print(labels_click_through)"
   ]
  },
  {
   "cell_type": "code",
   "execution_count": 4,
   "metadata": {},
   "outputs": [],
   "source": [
    "data = pd.DataFrame()\n",
    "data['game_key'] = gamekey_df\n",
    "data['labels_engagement'] = label_engagement[:838]\n",
    "data['labels_click_through'] = labels_click_through[:838]\n",
    "data['text_engagement'] = text_engagement[:838]\n",
    "data['text_click_through'] = text_click_through[:838]\n",
    "data['color_engagement'] = color_engagement[:838]\n",
    "data['color_click_through'] = color_click_through[:838]\n",
    "data['video_data'] = video_data[:838]\n",
    "data['direction'] = direction[:838]\n",
    "\n",
    "adunit-hitmans-wifes-body-guard-user-choice-v1-mob/e57629dbacfd7865d7cf"
   ]
  },
  {
   "cell_type": "code",
   "execution_count": 16,
   "metadata": {},
   "outputs": [
    {
     "name": "stdout",
     "output_type": "stream",
     "text": [
      "444e104ea378baae87997c41eec5b2ff/9e1c545a4b490a7c3088\n"
     ]
    }
   ],
   "source": [
    "print(data['game_key'][1])"
   ]
  },
  {
   "cell_type": "markdown",
   "metadata": {},
   "source": []
  },
  {
   "cell_type": "code",
   "execution_count": 25,
   "metadata": {},
   "outputs": [],
   "source": [
    "data.to_csv(\"../data/global_design_data.csv\", index = False)"
   ]
  },
  {
   "cell_type": "code",
   "execution_count": 26,
   "metadata": {},
   "outputs": [
    {
     "data": {
      "text/plain": [
       "Index(['game_key', 'labels_engagement', 'labels_click_through',\n",
       "       'text_engagement', 'text_click_through', 'color_engagement',\n",
       "       'color_click_through', 'video_data', 'direction'],\n",
       "      dtype='object')"
      ]
     },
     "execution_count": 26,
     "metadata": {},
     "output_type": "execute_result"
    }
   ],
   "source": [
    "data.columns"
   ]
  },
  {
   "cell_type": "code",
   "execution_count": null,
   "metadata": {},
   "outputs": [],
   "source": []
  }
 ],
 "metadata": {
  "kernelspec": {
   "display_name": "Python 3 (ipykernel)",
   "language": "python",
   "name": "python3"
  },
  "language_info": {
   "codemirror_mode": {
    "name": "ipython",
    "version": 3
   },
   "file_extension": ".py",
   "mimetype": "text/x-python",
   "name": "python",
   "nbconvert_exporter": "python",
   "pygments_lexer": "ipython3",
   "version": "3.10.4"
  },
  "vscode": {
   "interpreter": {
    "hash": "916dbcbb3f70747c44a77c7bcd40155683ae19c65e1c03b4aa3499c5328201f1"
   }
  }
 },
 "nbformat": 4,
 "nbformat_minor": 2
}
